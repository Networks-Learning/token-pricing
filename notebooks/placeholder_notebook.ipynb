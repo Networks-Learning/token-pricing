{
 "cells": [
  {
   "cell_type": "markdown",
   "metadata": {},
   "source": [
    "# Notebook\n",
    "\n",
    "This notebook creates a figure. It requires outputs produced by running the script ```script.sh```."
   ]
  },
  {
   "cell_type": "code",
   "execution_count": 1,
   "metadata": {},
   "outputs": [],
   "source": [
    "import os\n",
    "os.chdir(\"../\")"
   ]
  },
  {
   "cell_type": "code",
   "execution_count": 2,
   "metadata": {},
   "outputs": [],
   "source": [
    "import pandas as pd\n",
    "import matplotlib.pyplot as plt\n",
    "import seaborn as sns\n",
    "import glob\n",
    "import json\n",
    "from src import utils\n",
    "from IPython.display import clear_output\n",
    "\n",
    "sns.set_theme(context='paper', style='ticks', font_scale=1)"
   ]
  },
  {
   "cell_type": "code",
   "execution_count": 6,
   "metadata": {},
   "outputs": [],
   "source": [
    "name=\"test\"\n",
    "width_pt = 469\n",
    "palette = sns.color_palette('husl', 2)"
   ]
  },
  {
   "cell_type": "markdown",
   "metadata": {},
   "source": [
    "## present total results"
   ]
  },
  {
   "cell_type": "code",
   "execution_count": 4,
   "metadata": {
    "tags": []
   },
   "outputs": [
    {
     "name": "stdout",
     "output_type": "stream",
     "text": [
      "Reading file 40/40\n"
     ]
    }
   ],
   "source": [
    "files = glob.glob(\"./outputs/{name}_*.json\".format(name=name))\n",
    "\n",
    "dicts = []\n",
    "for fl_id, fl in enumerate(files):\n",
    "    clear_output(wait=True)\n",
    "    print('Reading file ' + str(fl_id+1)+'/'+str(len(files)))\n",
    "    with open(fl,\"r\") as f:\n",
    "        js = json.load(f)\n",
    "        \n",
    "        parameters = js['parameters']\n",
    "        total_results = js['total_results']\n",
    "        \n",
    "        dicts.append(\n",
    "            {\n",
    "                'N' : parameters['N'],\n",
    "                'prob' : parameters['prob'],\n",
    "                'seed' : parameters['seed'],\n",
    "                'avg_num_abstained' : total_results['avg_num_abstained']\n",
    "            }\n",
    "        )\n",
    "\n",
    "raw_df = pd.DataFrame(dicts)"
   ]
  },
  {
   "cell_type": "code",
   "execution_count": null,
   "metadata": {},
   "outputs": [],
   "source": [
    "utils.latexify() # Computer Modern, with TeX\n",
    "# utils.latexify(font_serif='Times New Roman', font_size=10, usetex=False) # Times New Roman, without TeX\n",
    "\n",
    "fig_width, fig_height = utils.get_fig_dim(width_pt, fraction=0.6)\n",
    "fig, ax = plt.subplots(figsize=(fig_width, fig_height))\n",
    "\n",
    "# draw axis\n",
    "sns.barplot(data=raw_df, x=\"N\", hue=\"prob\", y=\"avg_num_abstained\", errorbar=('ci', 95), palette=palette, ax=ax)            \n",
    "sns.despine(ax=ax)\n",
    "\n",
    "ax.set_xlabel(r\"$N$\")\n",
    "ax.set_ylabel(\"Average number of\\nabstained voters\")\n",
    "ax.legend(title=\"p\", loc='upper left')\n",
    "\n",
    "fig.tight_layout()\n",
    "fig.savefig('figures/figure.pdf', dpi=300)"
   ]
  },
  {
   "cell_type": "markdown",
   "metadata": {},
   "source": [
    "## present iteration results"
   ]
  },
  {
   "cell_type": "code",
   "execution_count": 19,
   "metadata": {},
   "outputs": [
    {
     "name": "stdout",
     "output_type": "stream",
     "text": [
      "Reading file 40/40\n"
     ]
    }
   ],
   "source": [
    "files = glob.glob(\"./outputs/{name}_*.json\".format(name=name))\n",
    "\n",
    "dicts = []\n",
    "for fl_id, fl in enumerate(files):\n",
    "    clear_output(wait=True)\n",
    "    print('Reading file ' + str(fl_id+1)+'/'+str(len(files)))\n",
    "    with open(fl,\"r\") as f:\n",
    "        js = json.load(f)\n",
    "        \n",
    "        parameters = js['parameters']\n",
    "        iteration_results = js['iteration_results']\n",
    "        ts = range(len(iteration_results))\n",
    "\n",
    "        for t in ts:\n",
    "            abstained = iteration_results['abstained'][t]\n",
    "            dicts.append(\n",
    "                {\n",
    "                    'N' : parameters['N'],\n",
    "                    'prob' : parameters['prob'],\n",
    "                    'seed' : parameters['seed'],\n",
    "                    't' : t,\n",
    "                    'abstained' : abstained                    \n",
    "                }\n",
    "            )\n",
    "\n",
    "raw_df = pd.DataFrame(dicts)"
   ]
  },
  {
   "cell_type": "code",
   "execution_count": 20,
   "metadata": {},
   "outputs": [],
   "source": [
    "# disards rows wheter prob = 0.1\n",
    "processed_df = raw_df[raw_df['prob'] != 0.1]"
   ]
  },
  {
   "cell_type": "code",
   "execution_count": 25,
   "metadata": {},
   "outputs": [],
   "source": [
    "utils.latexify() # Computer Modern, with TeX\n",
    "# utils.latexify(font_serif='Times New Roman', font_size=10, usetex=False) # Times New Roman, without TeX\n",
    "\n",
    "fig_width, fig_height = utils.get_fig_dim(width_pt, fraction=0.6)\n",
    "fig, ax = plt.subplots(figsize=(fig_width, fig_height))\n",
    "\n",
    "# draw axis\n",
    "# sns.barplot(data=raw_df, x=\"N\", hue=\"prob\", y=\"avg_num_abstained\", errorbar=('ci', 95), palette=palette, ax=ax)            \n",
    "sns.lineplot(data=processed_df, x=\"t\", y=\"abstained\", hue=\"N\", errorbar=('ci', 95), palette=palette, ax=ax)\n",
    "sns.despine(ax=ax)\n",
    "\n",
    "ax.set_xlabel(r\"Time, $t$\")\n",
    "ax.set_ylabel(\"Average number of\\nabstained voters\")\n",
    "ax.legend(title=\"N\", loc='upper left')\n",
    "\n",
    "fig.tight_layout()\n",
    "fig.savefig('figures/figure2.pdf', dpi=300)"
   ]
  },
  {
   "cell_type": "code",
   "execution_count": null,
   "metadata": {},
   "outputs": [],
   "source": []
  }
 ],
 "metadata": {
  "kernelspec": {
   "display_name": "env",
   "language": "python",
   "name": "python3"
  },
  "language_info": {
   "codemirror_mode": {
    "name": "ipython",
    "version": 3
   },
   "file_extension": ".py",
   "mimetype": "text/x-python",
   "name": "python",
   "nbconvert_exporter": "python",
   "pygments_lexer": "ipython3",
   "version": "3.13.0"
  },
  "metadata": {
   "interpreter": {
    "hash": "c425b3d18afb7ef01beae38734bbc4c3f66a0926b3e7f0a803887fb6dc8ff96a"
   }
  },
  "orig_nbformat": 2
 },
 "nbformat": 4,
 "nbformat_minor": 2
}
