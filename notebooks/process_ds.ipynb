{
 "cells": [
  {
   "cell_type": "markdown",
   "id": "0b1a77c3",
   "metadata": {},
   "source": [
    "# Proccess the LMSYS dataset"
   ]
  },
  {
   "cell_type": "code",
   "execution_count": 2,
   "id": "9cc8a96c",
   "metadata": {},
   "outputs": [
    {
     "name": "stderr",
     "output_type": "stream",
     "text": [
      "Saving the dataset (1/1 shards): 100%|██████████| 777453/777453 [00:02<00:00, 332551.15 examples/s] \n"
     ]
    }
   ],
   "source": [
    "from datasets import load_dataset \n",
    "import os\n",
    "\n",
    "# Set the cache directory for datasets\n",
    "cache_dir = \"/NL/token-pricing/work/data/original\"\n",
    "os.environ[\"HF_DATASETS_CACHE\"] = cache_dir\n",
    "\n",
    "# Load the dataset (replace 'LMSys/chat' with the actual dataset path if necessary)\n",
    "ds = load_dataset(\"lmsys/lmsys-chat-1m\", cache_dir=cache_dir)\n",
    "english_ds = ds['train'].filter(lambda example: example['language'] == 'English')\n",
    "\n",
    "def extract_prompt(example):\n",
    "    # Extract the prompt from the 'conversation' key\n",
    "    return {\"prompt\": example[\"conversation\"][0][\"content\"]}\n",
    "\n",
    "# Apply the function to the dataset\n",
    "prompts_ds = english_ds.map(extract_prompt, remove_columns=[col for col in english_ds.column_names if col != 'prompt'])\n",
    "\n",
    "prompts_ds.save_to_disk(\"/NL/token-pricing/work/data/processed\")\n"
   ]
  },
  {
   "cell_type": "code",
   "execution_count": 1,
   "id": "f37d0715",
   "metadata": {},
   "outputs": [
    {
     "name": "stderr",
     "output_type": "stream",
     "text": [
      "/NL/token-pricing/work/env/lib/python3.11/site-packages/tqdm/auto.py:21: TqdmWarning: IProgress not found. Please update jupyter and ipywidgets. See https://ipywidgets.readthedocs.io/en/stable/user_install.html\n",
      "  from .autonotebook import tqdm as notebook_tqdm\n"
     ]
    }
   ],
   "source": [
    "from datasets import load_from_disk \n",
    "import os\n",
    "\n",
    "prompts_ds = load_from_disk(\"/NL/token-pricing/work/data/processed\")\n"
   ]
  },
  {
   "cell_type": "code",
   "execution_count": 18,
   "id": "62a7f919",
   "metadata": {},
   "outputs": [
    {
     "name": "stdout",
     "output_type": "stream",
     "text": [
      "Three skills similar to sms gateway. Give only skill names separated by comma, no description needed.\n"
     ]
    }
   ],
   "source": [
    "print(prompts_ds[89][\"prompt\"])"
   ]
  },
  {
   "cell_type": "code",
   "execution_count": 21,
   "id": "fc909880",
   "metadata": {},
   "outputs": [
    {
     "name": "stdout",
     "output_type": "stream",
     "text": [
      "Dataset({\n",
      "    features: ['prompt'],\n",
      "    num_rows: 777453\n",
      "})\n"
     ]
    }
   ],
   "source": [
    "import random\n",
    "print(prompts_ds)\n",
    "output_file = \"LMSYS_prompts.txt\"\n",
    "\n",
    "# Specify the maximum number of prompts to write\n",
    "max_prompts = 10000\n",
    "\n",
    "# Specify the output file\n",
    "output_file = \"LMSYS_prompts.txt\"\n",
    "\n",
    "# Shuffle the dataset indices\n",
    "indices = list(range(len(prompts_ds)))\n",
    "random.shuffle(indices)\n",
    "\n",
    "# Write the filtered prompts to the file\n",
    "with open(output_file, \"w\", encoding=\"utf-8\") as f:\n",
    "    count = 0\n",
    "    for idx in indices:\n",
    "        prompt = prompts_ds[idx][\"prompt\"]\n",
    "        if 20<len(prompt) < 100:\n",
    "            f.write(prompt + \"\\n\")\n",
    "            count += 1\n",
    "        if count >= max_prompts:\n",
    "            break"
   ]
  }
 ],
 "metadata": {
  "kernelspec": {
   "display_name": "env",
   "language": "python",
   "name": "python3"
  },
  "language_info": {
   "codemirror_mode": {
    "name": "ipython",
    "version": 3
   },
   "file_extension": ".py",
   "mimetype": "text/x-python",
   "name": "python",
   "nbconvert_exporter": "python",
   "pygments_lexer": "ipython3",
   "version": "3.11.2"
  }
 },
 "nbformat": 4,
 "nbformat_minor": 5
}
